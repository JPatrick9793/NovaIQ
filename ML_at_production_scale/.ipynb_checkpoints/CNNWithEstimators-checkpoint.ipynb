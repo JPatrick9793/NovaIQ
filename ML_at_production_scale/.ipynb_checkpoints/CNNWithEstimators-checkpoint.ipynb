{
 "cells": [
  {
   "cell_type": "markdown",
   "metadata": {},
   "source": [
    "# Build Convolutional Nueral Network\n",
    "***"
   ]
  },
  {
   "cell_type": "code",
   "execution_count": 2,
   "metadata": {},
   "outputs": [],
   "source": [
    "# Imports\n",
    "import numpy as np\n",
    "import tensorflow as tf"
   ]
  },
  {
   "cell_type": "code",
   "execution_count": 3,
   "metadata": {},
   "outputs": [],
   "source": [
    "tf.logging.set_verbosity(tf.logging.INFO)"
   ]
  },
  {
   "cell_type": "code",
   "execution_count": 4,
   "metadata": {},
   "outputs": [],
   "source": [
    "def cnn_model_fn(features, labels, mode):\n",
    "    \n",
    "    # First layer\n",
    "    input_layer = tf.reshape(features[\"x\"],\n",
    "                             [-1, 28, 28, 1])\n",
    "    conv1 = tf.layers.conv2d(\n",
    "        inputs=input_layer,\n",
    "        filters=32,\n",
    "        kernel_size=[5,5],\n",
    "        padding=\"same\",\n",
    "        activation=tf.nn.relu)\n",
    "    pool1 = tf.layers.max_pooling2d(inputs=conv1,\n",
    "                                    pool_size=[2,2],\n",
    "                                    strides=2)\n",
    "    \n",
    "    # Second Layer\n",
    "    conv2 = tf.layers.conv2d(inputs = pool1,\n",
    "                             filters = 64,\n",
    "                             kernel_size = [5,5],\n",
    "                             padding = 'same',\n",
    "                             activation = tf.nn.relu)\n",
    "    pool2 = tf.layers.MaxPooling2D(inputs = conv2,\n",
    "                                   pool_size = [2,2],\n",
    "                                   strides = 2)\n",
    "    \n",
    "    # Output Layer\n",
    "    dense = tf.layers.dense(inputs = pool2,\n",
    "                            units = 1024,\n",
    "                            activation = tf.nn.relu)\n",
    "    dropout = tf.layers.dropout(inputs = dense,\n",
    "                                rate = 0.4,\n",
    "                                training = mode==tf.estimator.ModeKeys.TRAIN)\n",
    "    \n",
    "    # Logit layer\n",
    "    logits = tf.layers.dense(inputs = dropout,\n",
    "                             units = 10)\n",
    "    \n",
    "    # Predictions:\n",
    "    predictions = {\n",
    "        \"classes\": tf.argmax(input=logits, axis=1),\n",
    "        \"probabilities\": tf.nn.softmax(logits=logits, name=\"softmax_tensor\")\n",
    "    }\n",
    "    \n",
    "    if mode == tf.estimator.ModeKeys.PREDICT:\n",
    "        return tf.estimator.EstimatorSpec(mode=mode,\n",
    "                                          predictions=predictions)\n",
    "    \n",
    "    loss = tf.losses.sparse_softmax_cross_entropy(labels=labels,\n",
    "                                                  logits=logits)\n",
    "    \n",
    "    # Configure Training Ops for TRAIN mode\n",
    "    if mode == tf.estimator.ModeKeys.TRAIN:\n",
    "        optimizer = tf.train.GradientDescentOptimizer(\n",
    "            learning_rate=0.001)\n",
    "        train_op = optimizer.minimize(\n",
    "            loss=loss,\n",
    "            global_step=tf.train.get_global_step())\n",
    "        return tf.estimator.EstimatorSpec(mode=mode,\n",
    "                                          loss=loss,\n",
    "                                          train_op=train_op)\n",
    "    \n",
    "    eval_metric_ops = {\n",
    "        \"accuracy\": tf.metrics.accuracy()\n",
    "    }"
   ]
  },
  {
   "cell_type": "code",
   "execution_count": null,
   "metadata": {},
   "outputs": [],
   "source": []
  }
 ],
 "metadata": {
  "kernelspec": {
   "display_name": "Python 3",
   "language": "python",
   "name": "python3"
  },
  "language_info": {
   "codemirror_mode": {
    "name": "ipython",
    "version": 3
   },
   "file_extension": ".py",
   "mimetype": "text/x-python",
   "name": "python",
   "nbconvert_exporter": "python",
   "pygments_lexer": "ipython3",
   "version": "3.6.6"
  }
 },
 "nbformat": 4,
 "nbformat_minor": 2
}
