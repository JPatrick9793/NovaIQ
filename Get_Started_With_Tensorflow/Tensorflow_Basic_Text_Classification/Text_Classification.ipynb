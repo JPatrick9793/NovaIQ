{
 "cells": [
  {
   "cell_type": "markdown",
   "metadata": {},
   "source": [
    "# Tensorflow - Basic Text Classification"
   ]
  },
  {
   "cell_type": "code",
   "execution_count": 1,
   "metadata": {},
   "outputs": [
    {
     "name": "stdout",
     "output_type": "stream",
     "text": [
      "1.9.0\n"
     ]
    }
   ],
   "source": [
    "import tensorflow as tf\n",
    "from tensorflow import keras\n",
    "import numpy as np\n",
    "print (tf.__version__)"
   ]
  },
  {
   "cell_type": "code",
   "execution_count": 2,
   "metadata": {},
   "outputs": [],
   "source": [
    "imdb = keras.datasets.imdb\n",
    "(train_data, train_labels), (test_data, test_labels) = imdb.load_data(num_words=10000)"
   ]
  },
  {
   "cell_type": "code",
   "execution_count": 3,
   "metadata": {},
   "outputs": [
    {
     "name": "stdout",
     "output_type": "stream",
     "text": [
      "# of training Entries: (25000,)\n",
      "# of training Labels: (25000,)\n"
     ]
    }
   ],
   "source": [
    "print(\"# of training Entries: {}\".format(train_data.shape))\n",
    "print(\"# of training Labels: {}\".format(train_labels.shape))"
   ]
  },
  {
   "cell_type": "code",
   "execution_count": 4,
   "metadata": {},
   "outputs": [
    {
     "name": "stdout",
     "output_type": "stream",
     "text": [
      "218 words\n",
      "[1, 14, 22, 16, 43, 530, 973, 1622, 1385, 65, 458, 4468, 66, 3941, 4, 173, 36, 256, 5, 25, 100, 43, 838, 112, 50, 670, 2, 9, 35, 480, 284, 5, 150, 4, 172, 112, 167, 2, 336, 385, 39, 4, 172, 4536, 1111, 17, 546, 38, 13, 447, 4, 192, 50, 16, 6, 147, 2025, 19, 14, 22, 4, 1920, 4613, 469, 4, 22, 71, 87, 12, 16, 43, 530, 38, 76, 15, 13, 1247, 4, 22, 17, 515, 17, 12, 16, 626, 18, 2, 5, 62, 386, 12, 8, 316, 8, 106, 5, 4, 2223, 5244, 16, 480, 66, 3785, 33, 4, 130, 12, 16, 38, 619, 5, 25, 124, 51, 36, 135, 48, 25, 1415, 33, 6, 22, 12, 215, 28, 77, 52, 5, 14, 407, 16, 82, 2, 8, 4, 107, 117, 5952, 15, 256, 4, 2, 7, 3766, 5, 723, 36, 71, 43, 530, 476, 26, 400, 317, 46, 7, 4, 2, 1029, 13, 104, 88, 4, 381, 15, 297, 98, 32, 2071, 56, 26, 141, 6, 194, 7486, 18, 4, 226, 22, 21, 134, 476, 26, 480, 5, 144, 30, 5535, 18, 51, 36, 28, 224, 92, 25, 104, 4, 226, 65, 16, 38, 1334, 88, 12, 16, 283, 5, 16, 4472, 113, 103, 32, 15, 16, 5345, 19, 178, 32]\n"
     ]
    }
   ],
   "source": [
    "# Print first entry\n",
    "print('{} words'.format(len(train_data[0])))\n",
    "print(train_data[0])"
   ]
  },
  {
   "cell_type": "code",
   "execution_count": 5,
   "metadata": {},
   "outputs": [
    {
     "name": "stdout",
     "output_type": "stream",
     "text": [
      "<class 'dict'>\n"
     ]
    }
   ],
   "source": [
    "# A dictionary mapping words to an integer index\n",
    "word_index = imdb.get_word_index()\n",
    "print(type(word_index))\n",
    "\n",
    "# The first indices are reserved\n",
    "word_index = {k:(v+3) for k,v in word_index.items()} \n",
    "word_index[\"<PAD>\"] = 0\n",
    "word_index[\"<START>\"] = 1\n",
    "word_index[\"<UNK>\"] = 2  # unknown\n",
    "word_index[\"<UNUSED>\"] = 3\n",
    "\n",
    "reverse_word_index = dict([(value, key) for (key, value) in word_index.items()])\n",
    "\n",
    "# def decode_review(text):\n",
    "#     return ' '.join([reverse_word_index.get(i, '?') for i in text])\n",
    "\n",
    "decode_review = lambda x: ' '.join([reverse_word_index.get(i, '?') for i in x])"
   ]
  },
  {
   "cell_type": "code",
   "execution_count": 6,
   "metadata": {},
   "outputs": [
    {
     "data": {
      "text/plain": [
       "\"<START> this film was just brilliant casting location scenery story direction everyone's really suited the part they played and you could just imagine being there robert <UNK> is an amazing actor and now the same being director <UNK> father came from the same scottish island as myself so i loved the fact there was a real connection with this film the witty remarks throughout the film were great it was just brilliant so much that i bought the film as soon as it was released for <UNK> and would recommend it to everyone to watch and the fly fishing was amazing really cried at the end it was so sad and you know what they say if you cry at a film it must have been good and this definitely was also <UNK> to the two little boy's that played the <UNK> of norman and paul they were just brilliant children are often left out of the <UNK> list i think because the stars that play them all grown up are such a big profile for the whole film but these children are amazing and should be praised for what they have done don't you think the whole story was so lovely because it was true and was someone's life after all that was shared with us all\""
      ]
     },
     "execution_count": 6,
     "metadata": {},
     "output_type": "execute_result"
    }
   ],
   "source": [
    "decode_review(train_data[0])"
   ]
  },
  {
   "cell_type": "code",
   "execution_count": 7,
   "metadata": {},
   "outputs": [
    {
     "name": "stdout",
     "output_type": "stream",
     "text": [
      "17934\n"
     ]
    }
   ],
   "source": [
    "maxLength = np.argmax([len(x) for x in train_data])\n",
    "print (maxLength)"
   ]
  },
  {
   "cell_type": "code",
   "execution_count": 8,
   "metadata": {},
   "outputs": [],
   "source": [
    "train_data = keras.preprocessing.sequence.pad_sequences(train_data,\n",
    "                                                        value=word_index[\"<PAD>\"],\n",
    "                                                        padding='post',\n",
    "                                                        maxlen=256)\n",
    "test_data = keras.preprocessing.sequence.pad_sequences(test_data,\n",
    "                                                       value=word_index[\"<PAD>\"],\n",
    "                                                       padding='post',\n",
    "                                                       maxlen=256)"
   ]
  },
  {
   "cell_type": "code",
   "execution_count": 9,
   "metadata": {},
   "outputs": [
    {
     "name": "stdout",
     "output_type": "stream",
     "text": [
      "(25000, 256)\n"
     ]
    }
   ],
   "source": [
    "print(np.array(train_data).shape)"
   ]
  },
  {
   "cell_type": "code",
   "execution_count": 10,
   "metadata": {},
   "outputs": [
    {
     "name": "stdout",
     "output_type": "stream",
     "text": [
      "[   1   14   22   16   43  530  973 1622 1385   65  458 4468   66 3941\n",
      "    4  173   36  256    5   25  100   43  838  112   50  670    2    9\n",
      "   35  480  284    5  150    4  172  112  167    2  336  385   39    4\n",
      "  172 4536 1111   17  546   38   13  447    4  192   50   16    6  147\n",
      " 2025   19   14   22    4 1920 4613  469    4   22   71   87   12   16\n",
      "   43  530   38   76   15   13 1247    4   22   17  515   17   12   16\n",
      "  626   18    2    5   62  386   12    8  316    8  106    5    4 2223\n",
      " 5244   16  480   66 3785   33    4  130   12   16   38  619    5   25\n",
      "  124   51   36  135   48   25 1415   33    6   22   12  215   28   77\n",
      "   52    5   14  407   16   82    2    8    4  107  117 5952   15  256\n",
      "    4    2    7 3766    5  723   36   71   43  530  476   26  400  317\n",
      "   46    7    4    2 1029   13  104   88    4  381   15  297   98   32\n",
      " 2071   56   26  141    6  194 7486   18    4  226   22   21  134  476\n",
      "   26  480    5  144   30 5535   18   51   36   28  224   92   25  104\n",
      "    4  226   65   16   38 1334   88   12   16  283    5   16 4472  113\n",
      "  103   32   15   16 5345   19  178   32    0    0    0    0    0    0\n",
      "    0    0    0    0    0    0    0    0    0    0    0    0    0    0\n",
      "    0    0    0    0    0    0    0    0    0    0    0    0    0    0\n",
      "    0    0    0    0]\n"
     ]
    }
   ],
   "source": [
    "print (train_data[0])"
   ]
  },
  {
   "cell_type": "markdown",
   "metadata": {},
   "source": [
    "### Build the Model !!"
   ]
  },
  {
   "cell_type": "code",
   "execution_count": 11,
   "metadata": {},
   "outputs": [
    {
     "name": "stdout",
     "output_type": "stream",
     "text": [
      "_________________________________________________________________\n",
      "Layer (type)                 Output Shape              Param #   \n",
      "=================================================================\n",
      "embedding (Embedding)        (None, None, 16)          160000    \n",
      "_________________________________________________________________\n",
      "global_average_pooling1d (Gl (None, 16)                0         \n",
      "_________________________________________________________________\n",
      "dense (Dense)                (None, 16)                272       \n",
      "_________________________________________________________________\n",
      "dense_1 (Dense)              (None, 1)                 17        \n",
      "=================================================================\n",
      "Total params: 160,289\n",
      "Trainable params: 160,289\n",
      "Non-trainable params: 0\n",
      "_________________________________________________________________\n"
     ]
    }
   ],
   "source": [
    "vocab_size = 10000   # Corresponds to number of vocab words specified when importing dataset\n",
    "\n",
    "model = keras.Sequential()\n",
    "model.add(keras.layers.Embedding(vocab_size, 16))\n",
    "model.add(keras.layers.GlobalAveragePooling1D())\n",
    "model.add(keras.layers.Dense(16, activation=tf.nn.relu))\n",
    "model.add(keras.layers.Dense(1, activation=tf.nn.sigmoid))\n",
    "\n",
    "model.summary()\n"
   ]
  },
  {
   "cell_type": "code",
   "execution_count": 12,
   "metadata": {},
   "outputs": [],
   "source": [
    "model.compile(optimizer=tf.train.AdamOptimizer(),\n",
    "              loss='binary_crossentropy',\n",
    "              metrics=['accuracy'])"
   ]
  },
  {
   "cell_type": "code",
   "execution_count": 13,
   "metadata": {},
   "outputs": [],
   "source": [
    "# Remove validation data from training set\n",
    "x_val = train_data[:10000]\n",
    "partial_x_train = train_data[10000:]\n",
    "\n",
    "y_val = train_labels[:10000]\n",
    "partial_y_train = train_labels[10000:]"
   ]
  },
  {
   "cell_type": "code",
   "execution_count": 14,
   "metadata": {},
   "outputs": [
    {
     "name": "stdout",
     "output_type": "stream",
     "text": [
      "Train on 15000 samples, validate on 10000 samples\n",
      "Epoch 1/40\n",
      "15000/15000 [==============================] - 1s 70us/step - loss: 0.6922 - acc: 0.5197 - val_loss: 0.6912 - val_acc: 0.5223\n",
      "Epoch 2/40\n",
      "15000/15000 [==============================] - 1s 52us/step - loss: 0.6894 - acc: 0.5724 - val_loss: 0.6881 - val_acc: 0.5945\n",
      "Epoch 3/40\n",
      "15000/15000 [==============================] - 1s 53us/step - loss: 0.6860 - acc: 0.6120 - val_loss: 0.6850 - val_acc: 0.6104\n",
      "Epoch 4/40\n",
      "15000/15000 [==============================] - 1s 53us/step - loss: 0.6813 - acc: 0.6233 - val_loss: 0.6809 - val_acc: 0.5813\n",
      "Epoch 5/40\n",
      "15000/15000 [==============================] - 1s 53us/step - loss: 0.6741 - acc: 0.6603 - val_loss: 0.6714 - val_acc: 0.6821\n",
      "Epoch 6/40\n",
      "15000/15000 [==============================] - 1s 52us/step - loss: 0.6638 - acc: 0.7170 - val_loss: 0.6608 - val_acc: 0.7158\n",
      "Epoch 7/40\n",
      "15000/15000 [==============================] - 1s 53us/step - loss: 0.6503 - acc: 0.7372 - val_loss: 0.6470 - val_acc: 0.7337\n",
      "Epoch 8/40\n",
      "15000/15000 [==============================] - 1s 54us/step - loss: 0.6326 - acc: 0.7531 - val_loss: 0.6295 - val_acc: 0.7440\n",
      "Epoch 9/40\n",
      "15000/15000 [==============================] - 1s 55us/step - loss: 0.6115 - acc: 0.7651 - val_loss: 0.6081 - val_acc: 0.7573\n",
      "Epoch 10/40\n",
      "15000/15000 [==============================] - 1s 54us/step - loss: 0.5862 - acc: 0.7849 - val_loss: 0.5842 - val_acc: 0.7699\n",
      "Epoch 11/40\n",
      "15000/15000 [==============================] - 1s 54us/step - loss: 0.5589 - acc: 0.7911 - val_loss: 0.5614 - val_acc: 0.7775\n",
      "Epoch 12/40\n",
      "15000/15000 [==============================] - 1s 52us/step - loss: 0.5306 - acc: 0.8079 - val_loss: 0.5326 - val_acc: 0.7953\n",
      "Epoch 13/40\n",
      "15000/15000 [==============================] - 1s 52us/step - loss: 0.5007 - acc: 0.8244 - val_loss: 0.5074 - val_acc: 0.8099\n",
      "Epoch 14/40\n",
      "15000/15000 [==============================] - 1s 53us/step - loss: 0.4710 - acc: 0.8367 - val_loss: 0.4801 - val_acc: 0.8217\n",
      "Epoch 15/40\n",
      "15000/15000 [==============================] - 1s 53us/step - loss: 0.4412 - acc: 0.8451 - val_loss: 0.4542 - val_acc: 0.8280\n",
      "Epoch 16/40\n",
      "15000/15000 [==============================] - 1s 52us/step - loss: 0.4144 - acc: 0.8550 - val_loss: 0.4311 - val_acc: 0.8393\n",
      "Epoch 17/40\n",
      "15000/15000 [==============================] - 1s 52us/step - loss: 0.3892 - acc: 0.8661 - val_loss: 0.4110 - val_acc: 0.8460\n",
      "Epoch 18/40\n",
      "15000/15000 [==============================] - 1s 54us/step - loss: 0.3674 - acc: 0.8749 - val_loss: 0.3935 - val_acc: 0.8520\n",
      "Epoch 19/40\n",
      "15000/15000 [==============================] - 1s 54us/step - loss: 0.3483 - acc: 0.8807 - val_loss: 0.3787 - val_acc: 0.8577\n",
      "Epoch 20/40\n",
      "15000/15000 [==============================] - 1s 57us/step - loss: 0.3312 - acc: 0.8853 - val_loss: 0.3659 - val_acc: 0.8620\n",
      "Epoch 21/40\n",
      "15000/15000 [==============================] - 1s 61us/step - loss: 0.3163 - acc: 0.8911 - val_loss: 0.3549 - val_acc: 0.8651\n",
      "Epoch 22/40\n",
      "15000/15000 [==============================] - 1s 55us/step - loss: 0.3027 - acc: 0.8947 - val_loss: 0.3456 - val_acc: 0.8677\n",
      "Epoch 23/40\n",
      "15000/15000 [==============================] - 1s 56us/step - loss: 0.2909 - acc: 0.8978 - val_loss: 0.3381 - val_acc: 0.8690\n",
      "Epoch 24/40\n",
      "15000/15000 [==============================] - 1s 55us/step - loss: 0.2796 - acc: 0.9022 - val_loss: 0.3307 - val_acc: 0.8709\n",
      "Epoch 25/40\n",
      "15000/15000 [==============================] - 1s 55us/step - loss: 0.2696 - acc: 0.9051 - val_loss: 0.3246 - val_acc: 0.8731\n",
      "Epoch 26/40\n",
      "15000/15000 [==============================] - 1s 54us/step - loss: 0.2602 - acc: 0.9077 - val_loss: 0.3199 - val_acc: 0.8731\n",
      "Epoch 27/40\n",
      "15000/15000 [==============================] - 1s 53us/step - loss: 0.2522 - acc: 0.9094 - val_loss: 0.3150 - val_acc: 0.8770\n",
      "Epoch 28/40\n",
      "15000/15000 [==============================] - 1s 53us/step - loss: 0.2436 - acc: 0.9125 - val_loss: 0.3105 - val_acc: 0.8782\n",
      "Epoch 29/40\n",
      "15000/15000 [==============================] - 1s 54us/step - loss: 0.2363 - acc: 0.9147 - val_loss: 0.3073 - val_acc: 0.8782\n",
      "Epoch 30/40\n",
      "15000/15000 [==============================] - 1s 53us/step - loss: 0.2301 - acc: 0.9167 - val_loss: 0.3038 - val_acc: 0.8807\n",
      "Epoch 31/40\n",
      "15000/15000 [==============================] - 1s 54us/step - loss: 0.2225 - acc: 0.9201 - val_loss: 0.3014 - val_acc: 0.8817\n",
      "Epoch 32/40\n",
      "15000/15000 [==============================] - 1s 55us/step - loss: 0.2169 - acc: 0.9230 - val_loss: 0.2989 - val_acc: 0.8836\n",
      "Epoch 33/40\n",
      "15000/15000 [==============================] - 1s 53us/step - loss: 0.2101 - acc: 0.9258 - val_loss: 0.2968 - val_acc: 0.8835\n",
      "Epoch 34/40\n",
      "15000/15000 [==============================] - 1s 53us/step - loss: 0.2045 - acc: 0.9283 - val_loss: 0.2954 - val_acc: 0.8841\n",
      "Epoch 35/40\n",
      "15000/15000 [==============================] - 1s 54us/step - loss: 0.1996 - acc: 0.9287 - val_loss: 0.2934 - val_acc: 0.8842\n",
      "Epoch 36/40\n",
      "15000/15000 [==============================] - 1s 53us/step - loss: 0.1938 - acc: 0.9320 - val_loss: 0.2922 - val_acc: 0.8845\n",
      "Epoch 37/40\n",
      "15000/15000 [==============================] - 1s 55us/step - loss: 0.1889 - acc: 0.9344 - val_loss: 0.2910 - val_acc: 0.8853\n",
      "Epoch 38/40\n",
      "15000/15000 [==============================] - 1s 56us/step - loss: 0.1842 - acc: 0.9367 - val_loss: 0.2901 - val_acc: 0.8851\n",
      "Epoch 39/40\n",
      "15000/15000 [==============================] - 1s 62us/step - loss: 0.1791 - acc: 0.9389 - val_loss: 0.2891 - val_acc: 0.8863\n",
      "Epoch 40/40\n",
      "15000/15000 [==============================] - 1s 55us/step - loss: 0.1747 - acc: 0.9401 - val_loss: 0.2885 - val_acc: 0.8861\n"
     ]
    }
   ],
   "source": [
    "history = model.fit(partial_x_train,\n",
    "                   partial_y_train,\n",
    "                   epochs=40,\n",
    "                   batch_size=512,\n",
    "                   validation_data=(x_val, y_val),\n",
    "                   verbose=1)"
   ]
  },
  {
   "cell_type": "code",
   "execution_count": 15,
   "metadata": {},
   "outputs": [
    {
     "name": "stdout",
     "output_type": "stream",
     "text": [
      "25000/25000 [==============================] - 0s 12us/step\n",
      "[0.30428060148239133, 0.87464]\n"
     ]
    }
   ],
   "source": [
    "results = model.evaluate(test_data, test_labels)\n",
    "print(results)"
   ]
  },
  {
   "cell_type": "markdown",
   "metadata": {},
   "source": [
    "## Create graph of accuracy and loss over time"
   ]
  },
  {
   "cell_type": "code",
   "execution_count": 16,
   "metadata": {},
   "outputs": [
    {
     "data": {
      "text/plain": [
       "dict_keys(['val_loss', 'val_acc', 'loss', 'acc'])"
      ]
     },
     "execution_count": 16,
     "metadata": {},
     "output_type": "execute_result"
    }
   ],
   "source": [
    "history_dict = history.history\n",
    "history_dict.keys()"
   ]
  },
  {
   "cell_type": "code",
   "execution_count": 18,
   "metadata": {},
   "outputs": [
    {
     "data": {
      "image/png": "[encoded data removed]",
      "text/plain": [
       "<Figure size 432x288 with 1 Axes>"
      ]
     },
     "metadata": {},
     "output_type": "display_data"
    }
   ],
   "source": [
    "import matplotlib.pyplot as plt\n",
    "\n",
    "loss = history_dict['loss']\n",
    "val_loss = history_dict['val_loss']\n",
    "\n",
    "epochs = range(1, len(loss)+1)\n",
    "\n",
    "plt.plot(epochs, loss, 'ro', label='Training Loss')\n",
    "plt.plot(epochs, val_loss, 'r', label='Validation loss')\n",
    "\n",
    "plt.title('Training and validation loss')\n",
    "plt.xlabel('Epochs')\n",
    "plt.ylabel('Loss')\n",
    "\n",
    "plt.legend()\n",
    "\n",
    "plt.show()"
   ]
  },
  {
   "cell_type": "code",
   "execution_count": 21,
   "metadata": {},
   "outputs": [
    {
     "data": {
      "image/png": "[encoded data removed]",
      "text/plain": [
       "<Figure size 432x288 with 1 Axes>"
      ]
     },
     "metadata": {},
     "output_type": "display_data"
    }
   ],
   "source": [
    "plt.clf()   # clear figure\n",
    "acc = history_dict['acc']\n",
    "val_acc = history_dict['val_acc']\n",
    "\n",
    "plt.plot(epochs, acc, 'bo', label='Training acc')\n",
    "plt.plot(epochs, val_acc, 'b', label='Validation acc')\n",
    "plt.title('Training and validation accuracy')\n",
    "plt.xlabel('Epochs')\n",
    "plt.ylabel('Accuracy')\n",
    "plt.legend()\n",
    "\n",
    "plt.show()"
   ]
  }
 ],
 "metadata": {
  "kernelspec": {
   "display_name": "Python 3",
   "language": "python",
   "name": "python3"
  },
  "language_info": {
   "codemirror_mode": {
    "name": "ipython",
    "version": 3
   },
   "file_extension": ".py",
   "mimetype": "text/x-python",
   "name": "python",
   "nbconvert_exporter": "python",
   "pygments_lexer": "ipython3",
   "version": "3.6.6"
  }
 },
 "nbformat": 4,
 "nbformat_minor": 2
}
