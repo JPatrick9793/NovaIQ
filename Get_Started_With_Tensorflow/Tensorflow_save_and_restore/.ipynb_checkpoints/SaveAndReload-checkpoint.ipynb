{
 "cells": [
  {
   "cell_type": "markdown",
   "metadata": {},
   "source": [
    "# Save and Reload Weights"
   ]
  },
  {
   "cell_type": "code",
   "execution_count": 1,
   "metadata": {},
   "outputs": [
    {
     "name": "stdout",
     "output_type": "stream",
     "text": [
      "1.9.0\n"
     ]
    }
   ],
   "source": [
    "import os\n",
    "\n",
    "import tensorflow as tf\n",
    "from tensorflow import keras\n",
    "\n",
    "print(tf.__version__)"
   ]
  },
  {
   "cell_type": "markdown",
   "metadata": {},
   "source": [
    "## Import MNIST Data set"
   ]
  },
  {
   "cell_type": "code",
   "execution_count": 2,
   "metadata": {},
   "outputs": [],
   "source": [
    "(train_images, train_labels), (test_images, test_labels) = tf.keras.datasets.mnist.load_data()\n",
    "\n",
    "train_labels = train_labels[:1000]\n",
    "test_labels = test_labels[:1000]\n",
    "\n",
    "train_images = train_images[:1000].reshape(-1, 28*28) / 255.0\n",
    "test_images = test_images[:1000].reshape(-1, 28*28) / 255.0"
   ]
  },
  {
   "cell_type": "markdown",
   "metadata": {},
   "source": [
    "## Create Model"
   ]
  },
  {
   "cell_type": "code",
   "execution_count": 3,
   "metadata": {},
   "outputs": [],
   "source": [
    "def create_model():\n",
    "    model = tf.keras.models.Sequential([\n",
    "        keras.layers.Dense(512,\n",
    "                           activation=tf.nn.relu,\n",
    "                           input_shape=(784,)),\n",
    "        keras.layers.Dropout(0.2),\n",
    "        keras.layers.Dense(10, activation=tf.nn.softmax)\n",
    "    ])\n",
    "    model.compile(optimizer=tf.keras.optimizers.Adam(),\n",
    "                  loss=tf.keras.losses.sparse_categorical_crossentropy,\n",
    "                  metrics=['accuracy'])\n",
    "    return model\n",
    "    "
   ]
  },
  {
   "cell_type": "code",
   "execution_count": 4,
   "metadata": {},
   "outputs": [
    {
     "name": "stdout",
     "output_type": "stream",
     "text": [
      "_________________________________________________________________\n",
      "Layer (type)                 Output Shape              Param #   \n",
      "=================================================================\n",
      "dense (Dense)                (None, 512)               401920    \n",
      "_________________________________________________________________\n",
      "dropout (Dropout)            (None, 512)               0         \n",
      "_________________________________________________________________\n",
      "dense_1 (Dense)              (None, 10)                5130      \n",
      "=================================================================\n",
      "Total params: 407,050\n",
      "Trainable params: 407,050\n",
      "Non-trainable params: 0\n",
      "_________________________________________________________________\n"
     ]
    }
   ],
   "source": [
    "model = create_model()\n",
    "model.summary()"
   ]
  },
  {
   "cell_type": "markdown",
   "metadata": {},
   "source": [
    "## Checkpoint Callback Features"
   ]
  },
  {
   "cell_type": "code",
   "execution_count": 5,
   "metadata": {},
   "outputs": [],
   "source": [
    "checkpoint_path = \"training_1/cp.ckpt\"\n",
    "checkpoint_dir = os.path.dirname(checkpoint_path)\n",
    "\n",
    "cp_callback = tf.keras.callbacks.ModelCheckpoint(checkpoint_path,\n",
    "                                                 save_weights_only=True,\n",
    "                                                 verbose=1)"
   ]
  },
  {
   "cell_type": "code",
   "execution_count": 6,
   "metadata": {},
   "outputs": [
    {
     "name": "stdout",
     "output_type": "stream",
     "text": [
      "Train on 1000 samples, validate on 1000 samples\n",
      "Epoch 1/10\n",
      "1000/1000 [==============================] - 1s 746us/step - loss: 1.1822 - acc: 0.6470 - val_loss: 0.7124 - val_acc: 0.7680\n",
      "\n",
      "Epoch 00001: saving model to training_1/cp.ckpt\n",
      "Epoch 2/10\n",
      "1000/1000 [==============================] - 0s 443us/step - loss: 0.3972 - acc: 0.8910 - val_loss: 0.5951 - val_acc: 0.8120\n",
      "\n",
      "Epoch 00002: saving model to training_1/cp.ckpt\n",
      "Epoch 3/10\n",
      "1000/1000 [==============================] - 0s 437us/step - loss: 0.2901 - acc: 0.9220 - val_loss: 0.4935 - val_acc: 0.8400\n",
      "\n",
      "Epoch 00003: saving model to training_1/cp.ckpt\n",
      "Epoch 4/10\n",
      "1000/1000 [==============================] - 0s 451us/step - loss: 0.1996 - acc: 0.9520 - val_loss: 0.4712 - val_acc: 0.8500\n",
      "\n",
      "Epoch 00004: saving model to training_1/cp.ckpt\n",
      "Epoch 5/10\n",
      "1000/1000 [==============================] - 0s 449us/step - loss: 0.1622 - acc: 0.9640 - val_loss: 0.4305 - val_acc: 0.8580\n",
      "\n",
      "Epoch 00005: saving model to training_1/cp.ckpt\n",
      "Epoch 6/10\n",
      "1000/1000 [==============================] - 0s 447us/step - loss: 0.1110 - acc: 0.9800 - val_loss: 0.4161 - val_acc: 0.8610\n",
      "\n",
      "Epoch 00006: saving model to training_1/cp.ckpt\n",
      "Epoch 7/10\n",
      "1000/1000 [==============================] - 0s 448us/step - loss: 0.0803 - acc: 0.9880 - val_loss: 0.4232 - val_acc: 0.8630\n",
      "\n",
      "Epoch 00007: saving model to training_1/cp.ckpt\n",
      "Epoch 8/10\n",
      "1000/1000 [==============================] - 0s 468us/step - loss: 0.0676 - acc: 0.9930 - val_loss: 0.3933 - val_acc: 0.8690\n",
      "\n",
      "Epoch 00008: saving model to training_1/cp.ckpt\n",
      "Epoch 9/10\n",
      "1000/1000 [==============================] - 0s 447us/step - loss: 0.0523 - acc: 0.9970 - val_loss: 0.3873 - val_acc: 0.8790\n",
      "\n",
      "Epoch 00009: saving model to training_1/cp.ckpt\n",
      "Epoch 10/10\n",
      "1000/1000 [==============================] - 0s 479us/step - loss: 0.0386 - acc: 0.9970 - val_loss: 0.4024 - val_acc: 0.8710\n",
      "\n",
      "Epoch 00010: saving model to training_1/cp.ckpt\n"
     ]
    },
    {
     "data": {
      "text/plain": [
       "<tensorflow.python.keras.callbacks.History at 0x1f8986f4e10>"
      ]
     },
     "execution_count": 6,
     "metadata": {},
     "output_type": "execute_result"
    }
   ],
   "source": [
    "model.fit(train_images, train_labels, epochs=10,\n",
    "          validation_data = (test_images, test_labels),\n",
    "          callbacks = [cp_callback])"
   ]
  },
  {
   "cell_type": "code",
   "execution_count": 7,
   "metadata": {},
   "outputs": [
    {
     "name": "stdout",
     "output_type": "stream",
     "text": [
      " Volume in drive C is Windows\n",
      " Volume Serial Number is 2A3F-320D\n",
      "\n",
      " Directory of C:\\Users\\john.conway\\NovaIQ\\Tensorflow_save_and_restore\\training_1\n",
      "\n",
      "08/09/2018  08:53 PM    <DIR>          .\n",
      "08/09/2018  08:53 PM    <DIR>          ..\n",
      "08/09/2018  08:53 PM                71 checkpoint\n",
      "08/09/2018  08:53 PM         1,631,706 cp.ckpt.data-00000-of-00001\n",
      "08/09/2018  08:53 PM               647 cp.ckpt.index\n",
      "               3 File(s)      1,632,424 bytes\n",
      "               2 Dir(s)  159,802,437,632 bytes free\n"
     ]
    }
   ],
   "source": [
    "!dir {checkpoint_dir}"
   ]
  },
  {
   "cell_type": "code",
   "execution_count": 8,
   "metadata": {},
   "outputs": [
    {
     "name": "stdout",
     "output_type": "stream",
     "text": [
      "1000/1000 [==============================] - 0s 203us/step\n",
      "[2.2948268966674803, 0.117]\n"
     ]
    }
   ],
   "source": [
    "model = create_model()\n",
    "\n",
    "something = model.evaluate(test_images, test_labels)\n",
    "print (something)"
   ]
  },
  {
   "cell_type": "code",
   "execution_count": 9,
   "metadata": {},
   "outputs": [
    {
     "name": "stdout",
     "output_type": "stream",
     "text": [
      "1000/1000 [==============================] - 0s 95us/step\n",
      "[0.40239640069007876, 0.871]\n"
     ]
    }
   ],
   "source": [
    "model.load_weights(checkpoint_path)\n",
    "somethingelse = model.evaluate(test_images, test_labels)\n",
    "print (somethingelse)"
   ]
  },
  {
   "cell_type": "markdown",
   "metadata": {},
   "source": [
    "## Checkpoint callback options"
   ]
  },
  {
   "cell_type": "code",
   "execution_count": 11,
   "metadata": {},
   "outputs": [
    {
     "name": "stdout",
     "output_type": "stream",
     "text": [
      "\n",
      "Epoch 00005: saving model to training_2/cp-005.ckpt\n",
      "\n",
      "Epoch 00010: saving model to training_2/cp-010.ckpt\n",
      "\n",
      "Epoch 00015: saving model to training_2/cp-015.ckpt\n",
      "\n",
      "Epoch 00020: saving model to training_2/cp-020.ckpt\n",
      "\n",
      "Epoch 00025: saving model to training_2/cp-025.ckpt\n",
      "\n",
      "Epoch 00030: saving model to training_2/cp-030.ckpt\n",
      "\n",
      "Epoch 00035: saving model to training_2/cp-035.ckpt\n",
      "\n",
      "Epoch 00040: saving model to training_2/cp-040.ckpt\n",
      "\n",
      "Epoch 00045: saving model to training_2/cp-045.ckpt\n",
      "\n",
      "Epoch 00050: saving model to training_2/cp-050.ckpt\n"
     ]
    },
    {
     "data": {
      "text/plain": [
       "<tensorflow.python.keras.callbacks.History at 0x1f89b606e10>"
      ]
     },
     "execution_count": 11,
     "metadata": {},
     "output_type": "execute_result"
    }
   ],
   "source": [
    "checkpoint_path = \"training_2/cp-{epoch:03d}.ckpt\"\n",
    "checkpoint_dir = os.path.dirname(checkpoint_path)\n",
    "\n",
    "cp_callback = tf.keras.callbacks.ModelCheckpoint(\n",
    "    checkpoint_path, verbose=1, save_weights_only=True,\n",
    "    period=5)\n",
    "\n",
    "model = create_model()\n",
    "model.fit(\n",
    "    train_images, train_labels,\n",
    "    epochs=50, callbacks = [cp_callback],\n",
    "    validation_data = (test_images, test_labels),\n",
    "    verbose=0)"
   ]
  },
  {
   "cell_type": "code",
   "execution_count": 12,
   "metadata": {},
   "outputs": [
    {
     "name": "stdout",
     "output_type": "stream",
     "text": [
      " Volume in drive C is Windows\n",
      " Volume Serial Number is 2A3F-320D\n",
      "\n",
      " Directory of C:\\Users\\john.conway\\NovaIQ\\Tensorflow_save_and_restore\\training_2\n",
      "\n",
      "08/09/2018  09:01 PM    <DIR>          .\n",
      "08/09/2018  09:01 PM    <DIR>          ..\n",
      "08/09/2018  09:01 PM               247 checkpoint\n",
      "08/09/2018  09:01 PM         1,631,720 cp-030.ckpt.data-00000-of-00001\n",
      "08/09/2018  09:01 PM               647 cp-030.ckpt.index\n",
      "08/09/2018  09:01 PM         1,631,720 cp-035.ckpt.data-00000-of-00001\n",
      "08/09/2018  09:01 PM               647 cp-035.ckpt.index\n",
      "08/09/2018  09:01 PM         1,631,720 cp-040.ckpt.data-00000-of-00001\n",
      "08/09/2018  09:01 PM               647 cp-040.ckpt.index\n",
      "08/09/2018  09:01 PM         1,631,720 cp-045.ckpt.data-00000-of-00001\n",
      "08/09/2018  09:01 PM               647 cp-045.ckpt.index\n",
      "08/09/2018  09:01 PM         1,631,720 cp-050.ckpt.data-00000-of-00001\n",
      "08/09/2018  09:01 PM               647 cp-050.ckpt.index\n",
      "              11 File(s)      8,162,082 bytes\n",
      "               2 Dir(s)  159,791,431,680 bytes free\n"
     ]
    }
   ],
   "source": [
    "!dir {checkpoint_dir}"
   ]
  },
  {
   "cell_type": "code",
   "execution_count": 13,
   "metadata": {},
   "outputs": [],
   "source": [
    "import pathlib"
   ]
  },
  {
   "cell_type": "markdown",
   "metadata": {},
   "source": [
    "#### Sort checkpoints by modification time"
   ]
  },
  {
   "cell_type": "code",
   "execution_count": 15,
   "metadata": {},
   "outputs": [
    {
     "data": {
      "text/plain": [
       "[WindowsPath('training_2/cp-030.ckpt'),\n",
       " WindowsPath('training_2/cp-035.ckpt'),\n",
       " WindowsPath('training_2/cp-040.ckpt'),\n",
       " WindowsPath('training_2/cp-045.ckpt'),\n",
       " WindowsPath('training_2/cp-050.ckpt')]"
      ]
     },
     "execution_count": 15,
     "metadata": {},
     "output_type": "execute_result"
    }
   ],
   "source": [
    "checkpoints = pathlib.Path(checkpoint_dir).glob(\"*.index\")\n",
    "checkpoints = sorted(checkpoints, key=lambda cp:cp.stat().st_mtime)\n",
    "checkpoints = [cp.with_suffix('') for cp in checkpoints]\n",
    "latest = str(checkpoints[-1])\n",
    "checkpoints"
   ]
  },
  {
   "cell_type": "code",
   "execution_count": 19,
   "metadata": {},
   "outputs": [
    {
     "name": "stdout",
     "output_type": "stream",
     "text": [
      "1000/1000 [==============================] - 0s 153us/step\n",
      "Restored model, accuracy: 87.40%\n"
     ]
    }
   ],
   "source": [
    "model = create_model()\n",
    "model.load_weights(latest)\n",
    "loss, acc = model.evaluate(test_images,test_labels)\n",
    "print(\"Restored model, accuracy: {:5.2f}%\".format(100*acc))"
   ]
  },
  {
   "cell_type": "markdown",
   "metadata": {},
   "source": [
    "## Manually save weights"
   ]
  },
  {
   "cell_type": "code",
   "execution_count": 20,
   "metadata": {},
   "outputs": [
    {
     "name": "stdout",
     "output_type": "stream",
     "text": [
      "1000/1000 [==============================] - 0s 160us/step\n",
      "Restored model, accuracy: 87.40%\n"
     ]
    }
   ],
   "source": [
    "model.save_weights('./checkpoints/my_checkpoint')\n",
    "\n",
    "model = create_model()\n",
    "model.load_weights('./checkpoints/my_checkpoint')\n",
    "\n",
    "loss, acc = model.evaluate(test_images, test_labels)\n",
    "\n",
    "print(\"Restored model, accuracy: {:5.2f}%\".format(100*acc))"
   ]
  },
  {
   "cell_type": "code",
   "execution_count": null,
   "metadata": {},
   "outputs": [],
   "source": []
  }
 ],
 "metadata": {
  "kernelspec": {
   "display_name": "Python 3",
   "language": "python",
   "name": "python3"
  },
  "language_info": {
   "codemirror_mode": {
    "name": "ipython",
    "version": 3
   },
   "file_extension": ".py",
   "mimetype": "text/x-python",
   "name": "python",
   "nbconvert_exporter": "python",
   "pygments_lexer": "ipython3",
   "version": "3.6.6"
  }
 },
 "nbformat": 4,
 "nbformat_minor": 2
}
