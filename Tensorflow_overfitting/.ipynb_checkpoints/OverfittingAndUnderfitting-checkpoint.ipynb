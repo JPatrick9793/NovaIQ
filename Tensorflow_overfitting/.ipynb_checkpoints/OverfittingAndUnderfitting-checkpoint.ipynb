{
 "cells": [
  {
   "cell_type": "code",
   "execution_count": 3,
   "metadata": {},
   "outputs": [
    {
     "name": "stdout",
     "output_type": "stream",
     "text": [
      "1.9.0\n"
     ]
    }
   ],
   "source": [
    "import tensorflow as tf\n",
    "from tensorflow import keras\n",
    "import numpy as np\n",
    "import matplotlib.pyplot as plt\n",
    "\n",
    "print (tf.__version__)"
   ]
  },
  {
   "cell_type": "code",
   "execution_count": 5,
   "metadata": {},
   "outputs": [],
   "source": [
    "NUM_WORDS = 10000\n",
    "\n",
    "(train_data, train_labels), (test_data, test_labels) = keras.datasets.imdb.load_data(\n",
    "    num_words=NUM_WORDS)\n",
    "\n",
    "def multi_hot_sequences(sequences, dimension):\n",
    "    results = np.zeros((len(sequences), dimension))\n",
    "    for i, word_indices in enumerate(sequences):\n",
    "        results[i, word_indices] = 1.0\n",
    "    return results"
   ]
  },
  {
   "cell_type": "code",
   "execution_count": 6,
   "metadata": {},
   "outputs": [
    {
     "name": "stdout",
     "output_type": "stream",
     "text": [
      "[1, 14, 22, 16, 43, 530, 973, 1622, 1385, 65, 458, 4468, 66, 3941, 4, 173, 36, 256, 5, 25, 100, 43, 838, 112, 50, 670, 2, 9, 35, 480, 284, 5, 150, 4, 172, 112, 167, 2, 336, 385, 39, 4, 172, 4536, 1111, 17, 546, 38, 13, 447, 4, 192, 50, 16, 6, 147, 2025, 19, 14, 22, 4, 1920, 4613, 469, 4, 22, 71, 87, 12, 16, 43, 530, 38, 76, 15, 13, 1247, 4, 22, 17, 515, 17, 12, 16, 626, 18, 2, 5, 62, 386, 12, 8, 316, 8, 106, 5, 4, 2223, 5244, 16, 480, 66, 3785, 33, 4, 130, 12, 16, 38, 619, 5, 25, 124, 51, 36, 135, 48, 25, 1415, 33, 6, 22, 12, 215, 28, 77, 52, 5, 14, 407, 16, 82, 2, 8, 4, 107, 117, 5952, 15, 256, 4, 2, 7, 3766, 5, 723, 36, 71, 43, 530, 476, 26, 400, 317, 46, 7, 4, 2, 1029, 13, 104, 88, 4, 381, 15, 297, 98, 32, 2071, 56, 26, 141, 6, 194, 7486, 18, 4, 226, 22, 21, 134, 476, 26, 480, 5, 144, 30, 5535, 18, 51, 36, 28, 224, 92, 25, 104, 4, 226, 65, 16, 38, 1334, 88, 12, 16, 283, 5, 16, 4472, 113, 103, 32, 15, 16, 5345, 19, 178, 32]\n"
     ]
    }
   ],
   "source": [
    "print (train_data[0])"
   ]
  },
  {
   "cell_type": "code",
   "execution_count": 7,
   "metadata": {},
   "outputs": [
    {
     "data": {
      "text/plain": [
       "[<matplotlib.lines.Line2D at 0x2c055148240>]"
      ]
     },
     "execution_count": 7,
     "metadata": {},
     "output_type": "execute_result"
    },
    {
     "data": {
      "image/png": "[encoded data removed]",
      "text/plain": [
       "<Figure size 432x288 with 1 Axes>"
      ]
     },
     "metadata": {},
     "output_type": "display_data"
    }
   ],
   "source": [
    "train_data = multi_hot_sequences(train_data, dimension=NUM_WORDS)\n",
    "test_data = multi_hot_sequences(test_data, dimension=NUM_WORDS)\n",
    "\n",
    "plt.plot(train_data[0])"
   ]
  },
  {
   "cell_type": "code",
   "execution_count": 11,
   "metadata": {},
   "outputs": [],
   "source": [
    "def create_model(nuerons=16):\n",
    "    model = keras.Sequential()\n",
    "    model.add(keras.layers.Dense(nuerons,\n",
    "                                 activation=tf.nn.relu, input_shape=(NUM_WORDS,)))\n",
    "    model.add(keras.layers.Dense(nuerons,\n",
    "                                 activation=tf.nn.relu))\n",
    "    model.add(keras.layers.Dense(1, \n",
    "                                 activation=tf.nn.sigmoid))\n",
    "    \n",
    "    model.compile(optimizer='adam',\n",
    "                  loss='binary_crossentropy',\n",
    "                  metrics=['accuracy', 'binary_crossentropy'])\n",
    "    return model\n",
    "    \n",
    "    "
   ]
  },
  {
   "cell_type": "code",
   "execution_count": 12,
   "metadata": {},
   "outputs": [
    {
     "name": "stdout",
     "output_type": "stream",
     "text": [
      "_________________________________________________________________\n",
      "Layer (type)                 Output Shape              Param #   \n",
      "=================================================================\n",
      "dense_6 (Dense)              (None, 16)                160016    \n",
      "_________________________________________________________________\n",
      "dense_7 (Dense)              (None, 16)                272       \n",
      "_________________________________________________________________\n",
      "dense_8 (Dense)              (None, 1)                 17        \n",
      "=================================================================\n",
      "Total params: 160,305\n",
      "Trainable params: 160,305\n",
      "Non-trainable params: 0\n",
      "_________________________________________________________________\n"
     ]
    }
   ],
   "source": [
    "baseline_model = create_model(16)\n",
    "baseline_model.summary()"
   ]
  },
  {
   "cell_type": "code",
   "execution_count": 13,
   "metadata": {},
   "outputs": [
    {
     "name": "stdout",
     "output_type": "stream",
     "text": [
      "Train on 25000 samples, validate on 25000 samples\n",
      "Epoch 1/20\n",
      " - 10s - loss: 0.5244 - acc: 0.7690 - binary_crossentropy: 0.5244 - val_loss: 0.3583 - val_acc: 0.8753 - val_binary_crossentropy: 0.3583\n",
      "Epoch 2/20\n",
      " - 7s - loss: 0.2588 - acc: 0.9086 - binary_crossentropy: 0.2588 - val_loss: 0.2860 - val_acc: 0.8875 - val_binary_crossentropy: 0.2860\n",
      "Epoch 3/20\n",
      " - 8s - loss: 0.1815 - acc: 0.9362 - binary_crossentropy: 0.1815 - val_loss: 0.2916 - val_acc: 0.8841 - val_binary_crossentropy: 0.2916\n",
      "Epoch 4/20\n",
      " - 8s - loss: 0.1417 - acc: 0.9519 - binary_crossentropy: 0.1417 - val_loss: 0.3213 - val_acc: 0.8789 - val_binary_crossentropy: 0.3213\n",
      "Epoch 5/20\n",
      " - 9s - loss: 0.1148 - acc: 0.9626 - binary_crossentropy: 0.1148 - val_loss: 0.3507 - val_acc: 0.8731 - val_binary_crossentropy: 0.3507\n",
      "Epoch 6/20\n",
      " - 7s - loss: 0.0919 - acc: 0.9720 - binary_crossentropy: 0.0919 - val_loss: 0.3868 - val_acc: 0.8694 - val_binary_crossentropy: 0.3868\n",
      "Epoch 7/20\n",
      " - 7s - loss: 0.0733 - acc: 0.9799 - binary_crossentropy: 0.0733 - val_loss: 0.4343 - val_acc: 0.8619 - val_binary_crossentropy: 0.4343\n",
      "Epoch 8/20\n",
      " - 8s - loss: 0.0586 - acc: 0.9860 - binary_crossentropy: 0.0586 - val_loss: 0.4728 - val_acc: 0.8642 - val_binary_crossentropy: 0.4728\n",
      "Epoch 9/20\n",
      " - 8s - loss: 0.0457 - acc: 0.9908 - binary_crossentropy: 0.0457 - val_loss: 0.5127 - val_acc: 0.8602 - val_binary_crossentropy: 0.5127\n",
      "Epoch 10/20\n",
      " - 6s - loss: 0.0349 - acc: 0.9940 - binary_crossentropy: 0.0349 - val_loss: 0.5584 - val_acc: 0.8560 - val_binary_crossentropy: 0.5584\n",
      "Epoch 11/20\n",
      " - 6s - loss: 0.0268 - acc: 0.9963 - binary_crossentropy: 0.0268 - val_loss: 0.5997 - val_acc: 0.8563 - val_binary_crossentropy: 0.5997\n",
      "Epoch 12/20\n",
      " - 7s - loss: 0.0201 - acc: 0.9979 - binary_crossentropy: 0.0201 - val_loss: 0.6417 - val_acc: 0.8554 - val_binary_crossentropy: 0.6417\n",
      "Epoch 13/20\n",
      " - 7s - loss: 0.0144 - acc: 0.9986 - binary_crossentropy: 0.0144 - val_loss: 0.6769 - val_acc: 0.8552 - val_binary_crossentropy: 0.6769\n",
      "Epoch 14/20\n",
      " - 8s - loss: 0.0104 - acc: 0.9994 - binary_crossentropy: 0.0104 - val_loss: 0.7114 - val_acc: 0.8544 - val_binary_crossentropy: 0.7114\n",
      "Epoch 15/20\n",
      " - 7s - loss: 0.0075 - acc: 0.9996 - binary_crossentropy: 0.0075 - val_loss: 0.7409 - val_acc: 0.8541 - val_binary_crossentropy: 0.7409\n",
      "Epoch 16/20\n",
      " - 7s - loss: 0.0057 - acc: 0.9998 - binary_crossentropy: 0.0057 - val_loss: 0.7678 - val_acc: 0.8534 - val_binary_crossentropy: 0.7678\n",
      "Epoch 17/20\n",
      " - 7s - loss: 0.0044 - acc: 0.9999 - binary_crossentropy: 0.0044 - val_loss: 0.7933 - val_acc: 0.8536 - val_binary_crossentropy: 0.7933\n",
      "Epoch 18/20\n",
      " - 8s - loss: 0.0036 - acc: 0.9999 - binary_crossentropy: 0.0036 - val_loss: 0.8160 - val_acc: 0.8534 - val_binary_crossentropy: 0.8160\n",
      "Epoch 19/20\n",
      " - 8s - loss: 0.0030 - acc: 0.9999 - binary_crossentropy: 0.0030 - val_loss: 0.8353 - val_acc: 0.8533 - val_binary_crossentropy: 0.8353\n",
      "Epoch 20/20\n",
      " - 9s - loss: 0.0025 - acc: 0.9999 - binary_crossentropy: 0.0025 - val_loss: 0.8543 - val_acc: 0.8524 - val_binary_crossentropy: 0.8543\n"
     ]
    }
   ],
   "source": [
    "baseline_history = baseline_model.fit(train_data,\n",
    "                                     train_labels,\n",
    "                                     epochs=20,\n",
    "                                     batch_size=512,\n",
    "                                     validation_data=(test_data, test_labels),\n",
    "                                     verbose=2)"
   ]
  },
  {
   "cell_type": "code",
   "execution_count": 14,
   "metadata": {},
   "outputs": [
    {
     "name": "stdout",
     "output_type": "stream",
     "text": [
      "_________________________________________________________________\n",
      "Layer (type)                 Output Shape              Param #   \n",
      "=================================================================\n",
      "dense_9 (Dense)              (None, 4)                 40004     \n",
      "_________________________________________________________________\n",
      "dense_10 (Dense)             (None, 4)                 20        \n",
      "_________________________________________________________________\n",
      "dense_11 (Dense)             (None, 1)                 5         \n",
      "=================================================================\n",
      "Total params: 40,029\n",
      "Trainable params: 40,029\n",
      "Non-trainable params: 0\n",
      "_________________________________________________________________\n"
     ]
    }
   ],
   "source": [
    "smaller_model = create_model(4)\n",
    "smaller_model.summary()"
   ]
  },
  {
   "cell_type": "code",
   "execution_count": 15,
   "metadata": {},
   "outputs": [
    {
     "name": "stdout",
     "output_type": "stream",
     "text": [
      "Train on 25000 samples, validate on 25000 samples\n",
      "Epoch 1/20\n",
      " - 7s - loss: 0.5412 - acc: 0.7913 - binary_crossentropy: 0.5412 - val_loss: 0.4254 - val_acc: 0.8592 - val_binary_crossentropy: 0.4254\n",
      "Epoch 2/20\n",
      " - 6s - loss: 0.3385 - acc: 0.8917 - binary_crossentropy: 0.3385 - val_loss: 0.3344 - val_acc: 0.8786 - val_binary_crossentropy: 0.3344\n",
      "Epoch 3/20\n",
      " - 8s - loss: 0.2596 - acc: 0.9140 - binary_crossentropy: 0.2596 - val_loss: 0.2990 - val_acc: 0.8869 - val_binary_crossentropy: 0.2990\n",
      "Epoch 4/20\n",
      " - 8s - loss: 0.2159 - acc: 0.9292 - binary_crossentropy: 0.2159 - val_loss: 0.2875 - val_acc: 0.8869 - val_binary_crossentropy: 0.2875\n",
      "Epoch 5/20\n",
      " - 7s - loss: 0.1870 - acc: 0.9393 - binary_crossentropy: 0.1870 - val_loss: 0.2871 - val_acc: 0.8852 - val_binary_crossentropy: 0.2871\n",
      "Epoch 6/20\n",
      " - 6s - loss: 0.1651 - acc: 0.9459 - binary_crossentropy: 0.1651 - val_loss: 0.2873 - val_acc: 0.8858 - val_binary_crossentropy: 0.2873\n",
      "Epoch 7/20\n",
      " - 6s - loss: 0.1476 - acc: 0.9534 - binary_crossentropy: 0.1476 - val_loss: 0.2941 - val_acc: 0.8836 - val_binary_crossentropy: 0.2941\n",
      "Epoch 8/20\n",
      " - 9s - loss: 0.1334 - acc: 0.9580 - binary_crossentropy: 0.1334 - val_loss: 0.3037 - val_acc: 0.8810 - val_binary_crossentropy: 0.3037\n",
      "Epoch 9/20\n",
      " - 6s - loss: 0.1220 - acc: 0.9617 - binary_crossentropy: 0.1220 - val_loss: 0.3154 - val_acc: 0.8779 - val_binary_crossentropy: 0.3154\n",
      "Epoch 10/20\n",
      " - 7s - loss: 0.1108 - acc: 0.9670 - binary_crossentropy: 0.1108 - val_loss: 0.3278 - val_acc: 0.8761 - val_binary_crossentropy: 0.3278\n",
      "Epoch 11/20\n",
      " - 7s - loss: 0.1016 - acc: 0.9708 - binary_crossentropy: 0.1016 - val_loss: 0.3408 - val_acc: 0.8737 - val_binary_crossentropy: 0.3408\n",
      "Epoch 12/20\n",
      " - 7s - loss: 0.0926 - acc: 0.9732 - binary_crossentropy: 0.0926 - val_loss: 0.3568 - val_acc: 0.8719 - val_binary_crossentropy: 0.3568\n",
      "Epoch 13/20\n",
      " - 7s - loss: 0.0849 - acc: 0.9772 - binary_crossentropy: 0.0849 - val_loss: 0.3709 - val_acc: 0.8696 - val_binary_crossentropy: 0.3709\n",
      "Epoch 14/20\n",
      " - 8s - loss: 0.0782 - acc: 0.9799 - binary_crossentropy: 0.0782 - val_loss: 0.3877 - val_acc: 0.8682 - val_binary_crossentropy: 0.3877\n",
      "Epoch 15/20\n",
      " - 8s - loss: 0.0717 - acc: 0.9832 - binary_crossentropy: 0.0717 - val_loss: 0.4036 - val_acc: 0.8674 - val_binary_crossentropy: 0.4036\n",
      "Epoch 16/20\n",
      " - 7s - loss: 0.0659 - acc: 0.9846 - binary_crossentropy: 0.0659 - val_loss: 0.4215 - val_acc: 0.8658 - val_binary_crossentropy: 0.4215\n",
      "Epoch 17/20\n",
      " - 7s - loss: 0.0606 - acc: 0.9868 - binary_crossentropy: 0.0606 - val_loss: 0.4401 - val_acc: 0.8642 - val_binary_crossentropy: 0.4401\n",
      "Epoch 18/20\n",
      " - 6s - loss: 0.0553 - acc: 0.9893 - binary_crossentropy: 0.0553 - val_loss: 0.4623 - val_acc: 0.8616 - val_binary_crossentropy: 0.4623\n",
      "Epoch 19/20\n",
      " - 7s - loss: 0.0507 - acc: 0.9908 - binary_crossentropy: 0.0507 - val_loss: 0.4771 - val_acc: 0.8616 - val_binary_crossentropy: 0.4771\n",
      "Epoch 20/20\n",
      " - 7s - loss: 0.0463 - acc: 0.9918 - binary_crossentropy: 0.0463 - val_loss: 0.4968 - val_acc: 0.8608 - val_binary_crossentropy: 0.4968\n"
     ]
    }
   ],
   "source": [
    "smaller_history = smaller_model.fit(train_data,\n",
    "                                   train_labels,\n",
    "                                   epochs=20,\n",
    "                                   batch_size=512,\n",
    "                                   validation_data=(test_data, test_labels),\n",
    "                                   verbose=2)"
   ]
  },
  {
   "cell_type": "code",
   "execution_count": 16,
   "metadata": {},
   "outputs": [
    {
     "name": "stdout",
     "output_type": "stream",
     "text": [
      "_________________________________________________________________\n",
      "Layer (type)                 Output Shape              Param #   \n",
      "=================================================================\n",
      "dense_12 (Dense)             (None, 128)               1280128   \n",
      "_________________________________________________________________\n",
      "dense_13 (Dense)             (None, 128)               16512     \n",
      "_________________________________________________________________\n",
      "dense_14 (Dense)             (None, 1)                 129       \n",
      "=================================================================\n",
      "Total params: 1,296,769\n",
      "Trainable params: 1,296,769\n",
      "Non-trainable params: 0\n",
      "_________________________________________________________________\n"
     ]
    }
   ],
   "source": [
    "bigger_model = create_model(128)\n",
    "bigger_model.summary()"
   ]
  },
  {
   "cell_type": "code",
   "execution_count": 17,
   "metadata": {},
   "outputs": [
    {
     "name": "stdout",
     "output_type": "stream",
     "text": [
      "Train on 25000 samples, validate on 25000 samples\n",
      "Epoch 1/20\n",
      " - 15s - loss: 0.3662 - acc: 0.8473 - binary_crossentropy: 0.3662 - val_loss: 0.2891 - val_acc: 0.8854 - val_binary_crossentropy: 0.2891\n",
      "Epoch 2/20\n",
      " - 12s - loss: 0.1775 - acc: 0.9344 - binary_crossentropy: 0.1775 - val_loss: 0.3448 - val_acc: 0.8694 - val_binary_crossentropy: 0.3448\n",
      "Epoch 3/20\n",
      " - 12s - loss: 0.1234 - acc: 0.9568 - binary_crossentropy: 0.1234 - val_loss: 0.3824 - val_acc: 0.8704 - val_binary_crossentropy: 0.3824\n",
      "Epoch 4/20\n",
      " - 14s - loss: 0.0745 - acc: 0.9750 - binary_crossentropy: 0.0745 - val_loss: 0.4706 - val_acc: 0.8610 - val_binary_crossentropy: 0.4706\n",
      "Epoch 5/20\n",
      " - 13s - loss: 0.0354 - acc: 0.9910 - binary_crossentropy: 0.0354 - val_loss: 0.5545 - val_acc: 0.8580 - val_binary_crossentropy: 0.5545\n",
      "Epoch 6/20\n",
      " - 13s - loss: 0.0120 - acc: 0.9981 - binary_crossentropy: 0.0120 - val_loss: 0.6382 - val_acc: 0.8611 - val_binary_crossentropy: 0.6382\n",
      "Epoch 7/20\n",
      " - 14s - loss: 0.0034 - acc: 0.9998 - binary_crossentropy: 0.0034 - val_loss: 0.6957 - val_acc: 0.8598 - val_binary_crossentropy: 0.6957\n",
      "Epoch 8/20\n",
      " - 12s - loss: 0.0015 - acc: 1.0000 - binary_crossentropy: 0.0015 - val_loss: 0.7471 - val_acc: 0.8602 - val_binary_crossentropy: 0.7471\n",
      "Epoch 9/20\n",
      " - 12s - loss: 9.3257e-04 - acc: 1.0000 - binary_crossentropy: 9.3257e-04 - val_loss: 0.7736 - val_acc: 0.8610 - val_binary_crossentropy: 0.7736\n",
      "Epoch 10/20\n",
      " - 12s - loss: 6.8111e-04 - acc: 1.0000 - binary_crossentropy: 6.8111e-04 - val_loss: 0.7994 - val_acc: 0.8604 - val_binary_crossentropy: 0.7994\n",
      "Epoch 11/20\n",
      " - 12s - loss: 4.3156e-04 - acc: 1.0000 - binary_crossentropy: 4.3156e-04 - val_loss: 0.8168 - val_acc: 0.8606 - val_binary_crossentropy: 0.8168\n",
      "Epoch 12/20\n",
      " - 12s - loss: 3.3026e-04 - acc: 1.0000 - binary_crossentropy: 3.3026e-04 - val_loss: 0.8322 - val_acc: 0.8611 - val_binary_crossentropy: 0.8322\n",
      "Epoch 13/20\n",
      " - 12s - loss: 2.6164e-04 - acc: 1.0000 - binary_crossentropy: 2.6164e-04 - val_loss: 0.8460 - val_acc: 0.8614 - val_binary_crossentropy: 0.8460\n",
      "Epoch 14/20\n",
      " - 12s - loss: 2.1357e-04 - acc: 1.0000 - binary_crossentropy: 2.1357e-04 - val_loss: 0.8588 - val_acc: 0.8615 - val_binary_crossentropy: 0.8588\n",
      "Epoch 15/20\n",
      " - 12s - loss: 1.7753e-04 - acc: 1.0000 - binary_crossentropy: 1.7753e-04 - val_loss: 0.8699 - val_acc: 0.8614 - val_binary_crossentropy: 0.8699\n",
      "Epoch 16/20\n",
      " - 12s - loss: 1.4998e-04 - acc: 1.0000 - binary_crossentropy: 1.4998e-04 - val_loss: 0.8796 - val_acc: 0.8618 - val_binary_crossentropy: 0.8796\n",
      "Epoch 17/20\n",
      " - 13s - loss: 1.2845e-04 - acc: 1.0000 - binary_crossentropy: 1.2845e-04 - val_loss: 0.8904 - val_acc: 0.8613 - val_binary_crossentropy: 0.8904\n",
      "Epoch 18/20\n",
      " - 13s - loss: 1.1121e-04 - acc: 1.0000 - binary_crossentropy: 1.1121e-04 - val_loss: 0.8984 - val_acc: 0.8621 - val_binary_crossentropy: 0.8984\n",
      "Epoch 19/20\n",
      " - 13s - loss: 9.7095e-05 - acc: 1.0000 - binary_crossentropy: 9.7095e-05 - val_loss: 0.9062 - val_acc: 0.8623 - val_binary_crossentropy: 0.9062\n",
      "Epoch 20/20\n",
      " - 13s - loss: 8.5460e-05 - acc: 1.0000 - binary_crossentropy: 8.5460e-05 - val_loss: 0.9145 - val_acc: 0.8618 - val_binary_crossentropy: 0.9145\n"
     ]
    }
   ],
   "source": [
    "bigger_history = bigger_model.fit(train_data, train_labels,\n",
    "                                  epochs=20,\n",
    "                                  batch_size=512,\n",
    "                                  validation_data=(test_data, test_labels),\n",
    "                                  verbose=2)"
   ]
  },
  {
   "cell_type": "code",
   "execution_count": 26,
   "metadata": {},
   "outputs": [
    {
     "data": {
      "image/png": "[encoded data removed]",
      "text/plain": [
       "<Figure size 1152x720 with 1 Axes>"
      ]
     },
     "metadata": {},
     "output_type": "display_data"
    }
   ],
   "source": [
    "def plot_history(histories, key='binary_crossentropy'):\n",
    "    plt.figure(figsize=(16,10))\n",
    "    \n",
    "    for name, history in histories:\n",
    "        val = plt.plot(history.epoch,\n",
    "                       history.history['val_'+key],\n",
    "                       'o',\n",
    "                       label=name.title()+' Val')\n",
    "        plt.plot(history.epoch,\n",
    "                 history.history[key], \n",
    "                 color=val[0].get_color(), \n",
    "                 label=name.title()+' Train')\n",
    "        plt.xlabel('Epochs')\n",
    "        plt.ylabel(key.replace('_', ' ').title())\n",
    "        plt.legend()\n",
    "        \n",
    "        plt.xlim([0, max(history.epoch)])\n",
    "        \n",
    "plot_history([\n",
    "    ('baseline', baseline_history),\n",
    "    ('smaller', smaller_history),\n",
    "    ('bigger', bigger_history)\n",
    "])"
   ]
  },
  {
   "cell_type": "code",
   "execution_count": null,
   "metadata": {},
   "outputs": [],
   "source": []
  }
 ],
 "metadata": {
  "kernelspec": {
   "display_name": "Python 3",
   "language": "python",
   "name": "python3"
  },
  "language_info": {
   "codemirror_mode": {
    "name": "ipython",
    "version": 3
   },
   "file_extension": ".py",
   "mimetype": "text/x-python",
   "name": "python",
   "nbconvert_exporter": "python",
   "pygments_lexer": "ipython3",
   "version": "3.6.6"
  }
 },
 "nbformat": 4,
 "nbformat_minor": 2
}
